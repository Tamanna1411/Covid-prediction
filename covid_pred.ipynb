{
 "cells": [
  {
   "cell_type": "markdown",
   "metadata": {},
   "source": [
    "<div align = \"center\" class=\"alert alert-info\">\n",
    "   <h3 class = \"display-1\">Import all necessary files</h3>\n",
    "</div>\n",
    "<br>\n",
    "\n",
    "For <b><span style=\"color:Maroon\">data anaysis,visualization,numerical solution,data manipulation</span></b> some packages and files need to import.\n",
    "1. **Pandas**- for data manipulation and analysis \n",
    "2. **numpy** - for numerical calcuation,array,function\n",
    "3. **matplotlib** -for plot visualization\n",
    "4. **seaborn** - for data visualization\n",
    "5. **plotly** - for visualization plotly graph(online & offline)\n",
    "6. **warnings** - for showing warning messages"
   ]
  },
  {
   "cell_type": "code",
   "execution_count": 74,
   "metadata": {},
   "outputs": [],
   "source": [
    "import numpy as np # use for numerical calcuation,array,function\n",
    "import pandas as pd # use for data manipulation and analysis \n",
    "import matplotlib.pyplot as plt # use for plot visualization\n",
    "import seaborn as sns # use for data visualization\n",
    "%matplotlib inline\n",
    "import sys\n",
    "from sklearn.preprocessing import StandardScaler , Normalizer\n",
    "from sklearn.cluster import KMeans\n",
    "from sklearn.decomposition import PCA\n",
    "from scipy.stats import norm\n",
    "from scipy import stats\n",
    "from sklearn import metrics\n",
    "import warnings\n",
    "warnings.filterwarnings('ignore')"
   ]
  },
  {
   "cell_type": "markdown",
   "metadata": {},
   "source": [
    "### Upload database and read\n",
    "(Upload covid database named as **cleaned-Data** by **pandas** package named as **pd** and also read them by pandas file.)"
   ]
  },
  {
   "cell_type": "code",
   "execution_count": 75,
   "metadata": {},
   "outputs": [],
   "source": [
    "#read database\n",
    "corona = pd.read_csv(\"cleaned-Data.csv\")"
   ]
  },
  {
   "cell_type": "code",
   "execution_count": 76,
   "metadata": {},
   "outputs": [
    {
     "data": {
      "text/html": [
       "<div>\n",
       "<style scoped>\n",
       "    .dataframe tbody tr th:only-of-type {\n",
       "        vertical-align: middle;\n",
       "    }\n",
       "\n",
       "    .dataframe tbody tr th {\n",
       "        vertical-align: top;\n",
       "    }\n",
       "\n",
       "    .dataframe thead th {\n",
       "        text-align: right;\n",
       "    }\n",
       "</style>\n",
       "<table border=\"1\" class=\"dataframe\">\n",
       "  <thead>\n",
       "    <tr style=\"text-align: right;\">\n",
       "      <th></th>\n",
       "      <th>Fever</th>\n",
       "      <th>Tiredness</th>\n",
       "      <th>Dry-Cough</th>\n",
       "      <th>Difficulty-in-Breathing</th>\n",
       "      <th>Sore-Throat</th>\n",
       "      <th>None_Sympton</th>\n",
       "      <th>Pains</th>\n",
       "      <th>Nasal-Congestion</th>\n",
       "      <th>Runny-Nose</th>\n",
       "      <th>Diarrhea</th>\n",
       "      <th>...</th>\n",
       "      <th>Gender_Male</th>\n",
       "      <th>Gender_Transgender</th>\n",
       "      <th>Severity_Mild</th>\n",
       "      <th>Severity_Moderate</th>\n",
       "      <th>Severity_None</th>\n",
       "      <th>Severity_Severe</th>\n",
       "      <th>Contact_Dont-Know</th>\n",
       "      <th>Contact_No</th>\n",
       "      <th>Contact_Yes</th>\n",
       "      <th>Country</th>\n",
       "    </tr>\n",
       "  </thead>\n",
       "  <tbody>\n",
       "    <tr>\n",
       "      <th>0</th>\n",
       "      <td>1</td>\n",
       "      <td>1</td>\n",
       "      <td>1</td>\n",
       "      <td>1</td>\n",
       "      <td>1</td>\n",
       "      <td>0</td>\n",
       "      <td>1</td>\n",
       "      <td>1</td>\n",
       "      <td>1</td>\n",
       "      <td>1</td>\n",
       "      <td>...</td>\n",
       "      <td>1</td>\n",
       "      <td>0</td>\n",
       "      <td>1</td>\n",
       "      <td>0</td>\n",
       "      <td>0</td>\n",
       "      <td>0</td>\n",
       "      <td>0</td>\n",
       "      <td>0</td>\n",
       "      <td>1</td>\n",
       "      <td>China</td>\n",
       "    </tr>\n",
       "    <tr>\n",
       "      <th>1</th>\n",
       "      <td>1</td>\n",
       "      <td>1</td>\n",
       "      <td>1</td>\n",
       "      <td>1</td>\n",
       "      <td>1</td>\n",
       "      <td>0</td>\n",
       "      <td>1</td>\n",
       "      <td>1</td>\n",
       "      <td>1</td>\n",
       "      <td>1</td>\n",
       "      <td>...</td>\n",
       "      <td>1</td>\n",
       "      <td>0</td>\n",
       "      <td>1</td>\n",
       "      <td>0</td>\n",
       "      <td>0</td>\n",
       "      <td>0</td>\n",
       "      <td>0</td>\n",
       "      <td>1</td>\n",
       "      <td>0</td>\n",
       "      <td>China</td>\n",
       "    </tr>\n",
       "    <tr>\n",
       "      <th>2</th>\n",
       "      <td>1</td>\n",
       "      <td>1</td>\n",
       "      <td>1</td>\n",
       "      <td>1</td>\n",
       "      <td>1</td>\n",
       "      <td>0</td>\n",
       "      <td>1</td>\n",
       "      <td>1</td>\n",
       "      <td>1</td>\n",
       "      <td>1</td>\n",
       "      <td>...</td>\n",
       "      <td>1</td>\n",
       "      <td>0</td>\n",
       "      <td>1</td>\n",
       "      <td>0</td>\n",
       "      <td>0</td>\n",
       "      <td>0</td>\n",
       "      <td>1</td>\n",
       "      <td>0</td>\n",
       "      <td>0</td>\n",
       "      <td>China</td>\n",
       "    </tr>\n",
       "    <tr>\n",
       "      <th>3</th>\n",
       "      <td>1</td>\n",
       "      <td>1</td>\n",
       "      <td>1</td>\n",
       "      <td>1</td>\n",
       "      <td>1</td>\n",
       "      <td>0</td>\n",
       "      <td>1</td>\n",
       "      <td>1</td>\n",
       "      <td>1</td>\n",
       "      <td>1</td>\n",
       "      <td>...</td>\n",
       "      <td>1</td>\n",
       "      <td>0</td>\n",
       "      <td>0</td>\n",
       "      <td>1</td>\n",
       "      <td>0</td>\n",
       "      <td>0</td>\n",
       "      <td>0</td>\n",
       "      <td>0</td>\n",
       "      <td>1</td>\n",
       "      <td>China</td>\n",
       "    </tr>\n",
       "    <tr>\n",
       "      <th>4</th>\n",
       "      <td>1</td>\n",
       "      <td>1</td>\n",
       "      <td>1</td>\n",
       "      <td>1</td>\n",
       "      <td>1</td>\n",
       "      <td>0</td>\n",
       "      <td>1</td>\n",
       "      <td>1</td>\n",
       "      <td>1</td>\n",
       "      <td>1</td>\n",
       "      <td>...</td>\n",
       "      <td>1</td>\n",
       "      <td>0</td>\n",
       "      <td>0</td>\n",
       "      <td>1</td>\n",
       "      <td>0</td>\n",
       "      <td>0</td>\n",
       "      <td>0</td>\n",
       "      <td>1</td>\n",
       "      <td>0</td>\n",
       "      <td>China</td>\n",
       "    </tr>\n",
       "    <tr>\n",
       "      <th>5</th>\n",
       "      <td>1</td>\n",
       "      <td>1</td>\n",
       "      <td>1</td>\n",
       "      <td>1</td>\n",
       "      <td>1</td>\n",
       "      <td>0</td>\n",
       "      <td>1</td>\n",
       "      <td>1</td>\n",
       "      <td>1</td>\n",
       "      <td>1</td>\n",
       "      <td>...</td>\n",
       "      <td>1</td>\n",
       "      <td>0</td>\n",
       "      <td>0</td>\n",
       "      <td>1</td>\n",
       "      <td>0</td>\n",
       "      <td>0</td>\n",
       "      <td>1</td>\n",
       "      <td>0</td>\n",
       "      <td>0</td>\n",
       "      <td>China</td>\n",
       "    </tr>\n",
       "    <tr>\n",
       "      <th>6</th>\n",
       "      <td>1</td>\n",
       "      <td>1</td>\n",
       "      <td>1</td>\n",
       "      <td>1</td>\n",
       "      <td>1</td>\n",
       "      <td>0</td>\n",
       "      <td>1</td>\n",
       "      <td>1</td>\n",
       "      <td>1</td>\n",
       "      <td>1</td>\n",
       "      <td>...</td>\n",
       "      <td>1</td>\n",
       "      <td>0</td>\n",
       "      <td>0</td>\n",
       "      <td>0</td>\n",
       "      <td>0</td>\n",
       "      <td>1</td>\n",
       "      <td>0</td>\n",
       "      <td>0</td>\n",
       "      <td>1</td>\n",
       "      <td>China</td>\n",
       "    </tr>\n",
       "    <tr>\n",
       "      <th>7</th>\n",
       "      <td>1</td>\n",
       "      <td>1</td>\n",
       "      <td>1</td>\n",
       "      <td>1</td>\n",
       "      <td>1</td>\n",
       "      <td>0</td>\n",
       "      <td>1</td>\n",
       "      <td>1</td>\n",
       "      <td>1</td>\n",
       "      <td>1</td>\n",
       "      <td>...</td>\n",
       "      <td>1</td>\n",
       "      <td>0</td>\n",
       "      <td>0</td>\n",
       "      <td>0</td>\n",
       "      <td>0</td>\n",
       "      <td>1</td>\n",
       "      <td>0</td>\n",
       "      <td>1</td>\n",
       "      <td>0</td>\n",
       "      <td>China</td>\n",
       "    </tr>\n",
       "    <tr>\n",
       "      <th>8</th>\n",
       "      <td>1</td>\n",
       "      <td>1</td>\n",
       "      <td>1</td>\n",
       "      <td>1</td>\n",
       "      <td>1</td>\n",
       "      <td>0</td>\n",
       "      <td>1</td>\n",
       "      <td>1</td>\n",
       "      <td>1</td>\n",
       "      <td>1</td>\n",
       "      <td>...</td>\n",
       "      <td>1</td>\n",
       "      <td>0</td>\n",
       "      <td>0</td>\n",
       "      <td>0</td>\n",
       "      <td>0</td>\n",
       "      <td>1</td>\n",
       "      <td>1</td>\n",
       "      <td>0</td>\n",
       "      <td>0</td>\n",
       "      <td>China</td>\n",
       "    </tr>\n",
       "    <tr>\n",
       "      <th>9</th>\n",
       "      <td>1</td>\n",
       "      <td>1</td>\n",
       "      <td>1</td>\n",
       "      <td>1</td>\n",
       "      <td>1</td>\n",
       "      <td>0</td>\n",
       "      <td>1</td>\n",
       "      <td>1</td>\n",
       "      <td>1</td>\n",
       "      <td>1</td>\n",
       "      <td>...</td>\n",
       "      <td>1</td>\n",
       "      <td>0</td>\n",
       "      <td>0</td>\n",
       "      <td>0</td>\n",
       "      <td>1</td>\n",
       "      <td>0</td>\n",
       "      <td>0</td>\n",
       "      <td>0</td>\n",
       "      <td>1</td>\n",
       "      <td>China</td>\n",
       "    </tr>\n",
       "  </tbody>\n",
       "</table>\n",
       "<p>10 rows × 27 columns</p>\n",
       "</div>"
      ],
      "text/plain": [
       "   Fever  Tiredness  Dry-Cough  Difficulty-in-Breathing  Sore-Throat  \\\n",
       "0      1          1          1                        1            1   \n",
       "1      1          1          1                        1            1   \n",
       "2      1          1          1                        1            1   \n",
       "3      1          1          1                        1            1   \n",
       "4      1          1          1                        1            1   \n",
       "5      1          1          1                        1            1   \n",
       "6      1          1          1                        1            1   \n",
       "7      1          1          1                        1            1   \n",
       "8      1          1          1                        1            1   \n",
       "9      1          1          1                        1            1   \n",
       "\n",
       "   None_Sympton  Pains  Nasal-Congestion  Runny-Nose  Diarrhea  ...  \\\n",
       "0             0      1                 1           1         1  ...   \n",
       "1             0      1                 1           1         1  ...   \n",
       "2             0      1                 1           1         1  ...   \n",
       "3             0      1                 1           1         1  ...   \n",
       "4             0      1                 1           1         1  ...   \n",
       "5             0      1                 1           1         1  ...   \n",
       "6             0      1                 1           1         1  ...   \n",
       "7             0      1                 1           1         1  ...   \n",
       "8             0      1                 1           1         1  ...   \n",
       "9             0      1                 1           1         1  ...   \n",
       "\n",
       "   Gender_Male  Gender_Transgender  Severity_Mild  Severity_Moderate  \\\n",
       "0            1                   0              1                  0   \n",
       "1            1                   0              1                  0   \n",
       "2            1                   0              1                  0   \n",
       "3            1                   0              0                  1   \n",
       "4            1                   0              0                  1   \n",
       "5            1                   0              0                  1   \n",
       "6            1                   0              0                  0   \n",
       "7            1                   0              0                  0   \n",
       "8            1                   0              0                  0   \n",
       "9            1                   0              0                  0   \n",
       "\n",
       "   Severity_None  Severity_Severe  Contact_Dont-Know  Contact_No  Contact_Yes  \\\n",
       "0              0                0                  0           0            1   \n",
       "1              0                0                  0           1            0   \n",
       "2              0                0                  1           0            0   \n",
       "3              0                0                  0           0            1   \n",
       "4              0                0                  0           1            0   \n",
       "5              0                0                  1           0            0   \n",
       "6              0                1                  0           0            1   \n",
       "7              0                1                  0           1            0   \n",
       "8              0                1                  1           0            0   \n",
       "9              1                0                  0           0            1   \n",
       "\n",
       "   Country  \n",
       "0    China  \n",
       "1    China  \n",
       "2    China  \n",
       "3    China  \n",
       "4    China  \n",
       "5    China  \n",
       "6    China  \n",
       "7    China  \n",
       "8    China  \n",
       "9    China  \n",
       "\n",
       "[10 rows x 27 columns]"
      ]
     },
     "execution_count": 76,
     "metadata": {},
     "output_type": "execute_result"
    }
   ],
   "source": [
    "corona.head(10)"
   ]
  },
  {
   "cell_type": "markdown",
   "metadata": {},
   "source": [
    "### Free Session Dataset Description:\n",
    "1. Country: List of countries person visited.\n",
    "2. Age: Classification of the age group for each person, based on WHO Age Group Standard\n",
    "3. Symptoms: According to WHO, 5 are major symptoms of COVID-19, Fever, Tiredness, Difficulty in breathing, Dry cough, and sore throat.\n",
    "4. Experience any other symptoms: Pains, Nasal Congestion, Runny Nose, Diarrhea and Other.\n",
    "5. Severity: The level of severity, Mild, Moderate, Severe\n",
    "6. Contact: Has the person contacted some other COVID-19 Patient"
   ]
  },
  {
   "cell_type": "code",
   "execution_count": 77,
   "metadata": {},
   "outputs": [
    {
     "data": {
      "text/plain": [
       "Index(['Fever', 'Tiredness', 'Dry-Cough', 'Difficulty-in-Breathing',\n",
       "       'Sore-Throat', 'None_Sympton', 'Pains', 'Nasal-Congestion',\n",
       "       'Runny-Nose', 'Diarrhea', 'None_Experiencing', 'Age_0-9', 'Age_10-19',\n",
       "       'Age_20-24', 'Age_25-59', 'Age_60+', 'Gender_Female', 'Gender_Male',\n",
       "       'Gender_Transgender', 'Severity_Mild', 'Severity_Moderate',\n",
       "       'Severity_None', 'Severity_Severe', 'Contact_Dont-Know', 'Contact_No',\n",
       "       'Contact_Yes', 'Country'],\n",
       "      dtype='object')"
      ]
     },
     "execution_count": 77,
     "metadata": {},
     "output_type": "execute_result"
    }
   ],
   "source": [
    "corona.columns #finding columns"
   ]
  },
  {
   "cell_type": "code",
   "execution_count": 78,
   "metadata": {},
   "outputs": [
    {
     "name": "stdout",
     "output_type": "stream",
     "text": [
      "<class 'pandas.core.frame.DataFrame'>\n",
      "RangeIndex: 316800 entries, 0 to 316799\n",
      "Data columns (total 27 columns):\n",
      " #   Column                   Non-Null Count   Dtype \n",
      "---  ------                   --------------   ----- \n",
      " 0   Fever                    316800 non-null  int64 \n",
      " 1   Tiredness                316800 non-null  int64 \n",
      " 2   Dry-Cough                316800 non-null  int64 \n",
      " 3   Difficulty-in-Breathing  316800 non-null  int64 \n",
      " 4   Sore-Throat              316800 non-null  int64 \n",
      " 5   None_Sympton             316800 non-null  int64 \n",
      " 6   Pains                    316800 non-null  int64 \n",
      " 7   Nasal-Congestion         316800 non-null  int64 \n",
      " 8   Runny-Nose               316800 non-null  int64 \n",
      " 9   Diarrhea                 316800 non-null  int64 \n",
      " 10  None_Experiencing        316800 non-null  int64 \n",
      " 11  Age_0-9                  316800 non-null  int64 \n",
      " 12  Age_10-19                316800 non-null  int64 \n",
      " 13  Age_20-24                316800 non-null  int64 \n",
      " 14  Age_25-59                316800 non-null  int64 \n",
      " 15  Age_60+                  316800 non-null  int64 \n",
      " 16  Gender_Female            316800 non-null  int64 \n",
      " 17  Gender_Male              316800 non-null  int64 \n",
      " 18  Gender_Transgender       316800 non-null  int64 \n",
      " 19  Severity_Mild            316800 non-null  int64 \n",
      " 20  Severity_Moderate        316800 non-null  int64 \n",
      " 21  Severity_None            316800 non-null  int64 \n",
      " 22  Severity_Severe          316800 non-null  int64 \n",
      " 23  Contact_Dont-Know        316800 non-null  int64 \n",
      " 24  Contact_No               316800 non-null  int64 \n",
      " 25  Contact_Yes              316800 non-null  int64 \n",
      " 26  Country                  316800 non-null  object\n",
      "dtypes: int64(26), object(1)\n",
      "memory usage: 64.1+ MB\n"
     ]
    }
   ],
   "source": [
    "#The info() function is used to show range of index,column type,data type,memory usage.\n",
    "# for knowing datatype and columns type, using here info() function\n",
    "corona.info()"
   ]
  },
  {
   "cell_type": "code",
   "execution_count": 79,
   "metadata": {},
   "outputs": [
    {
     "data": {
      "text/html": [
       "<div>\n",
       "<style scoped>\n",
       "    .dataframe tbody tr th:only-of-type {\n",
       "        vertical-align: middle;\n",
       "    }\n",
       "\n",
       "    .dataframe tbody tr th {\n",
       "        vertical-align: top;\n",
       "    }\n",
       "\n",
       "    .dataframe thead th {\n",
       "        text-align: right;\n",
       "    }\n",
       "</style>\n",
       "<table border=\"1\" class=\"dataframe\">\n",
       "  <thead>\n",
       "    <tr style=\"text-align: right;\">\n",
       "      <th></th>\n",
       "      <th>Fever</th>\n",
       "      <th>Tiredness</th>\n",
       "      <th>Dry-Cough</th>\n",
       "      <th>Difficulty-in-Breathing</th>\n",
       "      <th>Sore-Throat</th>\n",
       "      <th>None_Sympton</th>\n",
       "      <th>Pains</th>\n",
       "      <th>Nasal-Congestion</th>\n",
       "      <th>Runny-Nose</th>\n",
       "      <th>Diarrhea</th>\n",
       "      <th>...</th>\n",
       "      <th>Gender_Female</th>\n",
       "      <th>Gender_Male</th>\n",
       "      <th>Gender_Transgender</th>\n",
       "      <th>Severity_Mild</th>\n",
       "      <th>Severity_Moderate</th>\n",
       "      <th>Severity_None</th>\n",
       "      <th>Severity_Severe</th>\n",
       "      <th>Contact_Dont-Know</th>\n",
       "      <th>Contact_No</th>\n",
       "      <th>Contact_Yes</th>\n",
       "    </tr>\n",
       "  </thead>\n",
       "  <tbody>\n",
       "    <tr>\n",
       "      <th>count</th>\n",
       "      <td>316800.000000</td>\n",
       "      <td>316800.000000</td>\n",
       "      <td>316800.000000</td>\n",
       "      <td>316800.000000</td>\n",
       "      <td>316800.000000</td>\n",
       "      <td>316800.000000</td>\n",
       "      <td>316800.000000</td>\n",
       "      <td>316800.000000</td>\n",
       "      <td>316800.000000</td>\n",
       "      <td>316800.000000</td>\n",
       "      <td>...</td>\n",
       "      <td>316800.000000</td>\n",
       "      <td>316800.000000</td>\n",
       "      <td>316800.000000</td>\n",
       "      <td>316800.000000</td>\n",
       "      <td>316800.000000</td>\n",
       "      <td>316800.000000</td>\n",
       "      <td>316800.000000</td>\n",
       "      <td>316800.000000</td>\n",
       "      <td>316800.000000</td>\n",
       "      <td>316800.000000</td>\n",
       "    </tr>\n",
       "    <tr>\n",
       "      <th>mean</th>\n",
       "      <td>0.312500</td>\n",
       "      <td>0.500000</td>\n",
       "      <td>0.562500</td>\n",
       "      <td>0.500000</td>\n",
       "      <td>0.312500</td>\n",
       "      <td>0.062500</td>\n",
       "      <td>0.363636</td>\n",
       "      <td>0.545455</td>\n",
       "      <td>0.545455</td>\n",
       "      <td>0.363636</td>\n",
       "      <td>...</td>\n",
       "      <td>0.333333</td>\n",
       "      <td>0.333333</td>\n",
       "      <td>0.333333</td>\n",
       "      <td>0.250000</td>\n",
       "      <td>0.250000</td>\n",
       "      <td>0.250000</td>\n",
       "      <td>0.250000</td>\n",
       "      <td>0.333333</td>\n",
       "      <td>0.333333</td>\n",
       "      <td>0.333333</td>\n",
       "    </tr>\n",
       "    <tr>\n",
       "      <th>std</th>\n",
       "      <td>0.463513</td>\n",
       "      <td>0.500001</td>\n",
       "      <td>0.496079</td>\n",
       "      <td>0.500001</td>\n",
       "      <td>0.463513</td>\n",
       "      <td>0.242062</td>\n",
       "      <td>0.481046</td>\n",
       "      <td>0.497930</td>\n",
       "      <td>0.497930</td>\n",
       "      <td>0.481046</td>\n",
       "      <td>...</td>\n",
       "      <td>0.471405</td>\n",
       "      <td>0.471405</td>\n",
       "      <td>0.471405</td>\n",
       "      <td>0.433013</td>\n",
       "      <td>0.433013</td>\n",
       "      <td>0.433013</td>\n",
       "      <td>0.433013</td>\n",
       "      <td>0.471405</td>\n",
       "      <td>0.471405</td>\n",
       "      <td>0.471405</td>\n",
       "    </tr>\n",
       "    <tr>\n",
       "      <th>min</th>\n",
       "      <td>0.000000</td>\n",
       "      <td>0.000000</td>\n",
       "      <td>0.000000</td>\n",
       "      <td>0.000000</td>\n",
       "      <td>0.000000</td>\n",
       "      <td>0.000000</td>\n",
       "      <td>0.000000</td>\n",
       "      <td>0.000000</td>\n",
       "      <td>0.000000</td>\n",
       "      <td>0.000000</td>\n",
       "      <td>...</td>\n",
       "      <td>0.000000</td>\n",
       "      <td>0.000000</td>\n",
       "      <td>0.000000</td>\n",
       "      <td>0.000000</td>\n",
       "      <td>0.000000</td>\n",
       "      <td>0.000000</td>\n",
       "      <td>0.000000</td>\n",
       "      <td>0.000000</td>\n",
       "      <td>0.000000</td>\n",
       "      <td>0.000000</td>\n",
       "    </tr>\n",
       "    <tr>\n",
       "      <th>25%</th>\n",
       "      <td>0.000000</td>\n",
       "      <td>0.000000</td>\n",
       "      <td>0.000000</td>\n",
       "      <td>0.000000</td>\n",
       "      <td>0.000000</td>\n",
       "      <td>0.000000</td>\n",
       "      <td>0.000000</td>\n",
       "      <td>0.000000</td>\n",
       "      <td>0.000000</td>\n",
       "      <td>0.000000</td>\n",
       "      <td>...</td>\n",
       "      <td>0.000000</td>\n",
       "      <td>0.000000</td>\n",
       "      <td>0.000000</td>\n",
       "      <td>0.000000</td>\n",
       "      <td>0.000000</td>\n",
       "      <td>0.000000</td>\n",
       "      <td>0.000000</td>\n",
       "      <td>0.000000</td>\n",
       "      <td>0.000000</td>\n",
       "      <td>0.000000</td>\n",
       "    </tr>\n",
       "    <tr>\n",
       "      <th>50%</th>\n",
       "      <td>0.000000</td>\n",
       "      <td>0.500000</td>\n",
       "      <td>1.000000</td>\n",
       "      <td>0.500000</td>\n",
       "      <td>0.000000</td>\n",
       "      <td>0.000000</td>\n",
       "      <td>0.000000</td>\n",
       "      <td>1.000000</td>\n",
       "      <td>1.000000</td>\n",
       "      <td>0.000000</td>\n",
       "      <td>...</td>\n",
       "      <td>0.000000</td>\n",
       "      <td>0.000000</td>\n",
       "      <td>0.000000</td>\n",
       "      <td>0.000000</td>\n",
       "      <td>0.000000</td>\n",
       "      <td>0.000000</td>\n",
       "      <td>0.000000</td>\n",
       "      <td>0.000000</td>\n",
       "      <td>0.000000</td>\n",
       "      <td>0.000000</td>\n",
       "    </tr>\n",
       "    <tr>\n",
       "      <th>75%</th>\n",
       "      <td>1.000000</td>\n",
       "      <td>1.000000</td>\n",
       "      <td>1.000000</td>\n",
       "      <td>1.000000</td>\n",
       "      <td>1.000000</td>\n",
       "      <td>0.000000</td>\n",
       "      <td>1.000000</td>\n",
       "      <td>1.000000</td>\n",
       "      <td>1.000000</td>\n",
       "      <td>1.000000</td>\n",
       "      <td>...</td>\n",
       "      <td>1.000000</td>\n",
       "      <td>1.000000</td>\n",
       "      <td>1.000000</td>\n",
       "      <td>0.250000</td>\n",
       "      <td>0.250000</td>\n",
       "      <td>0.250000</td>\n",
       "      <td>0.250000</td>\n",
       "      <td>1.000000</td>\n",
       "      <td>1.000000</td>\n",
       "      <td>1.000000</td>\n",
       "    </tr>\n",
       "    <tr>\n",
       "      <th>max</th>\n",
       "      <td>1.000000</td>\n",
       "      <td>1.000000</td>\n",
       "      <td>1.000000</td>\n",
       "      <td>1.000000</td>\n",
       "      <td>1.000000</td>\n",
       "      <td>1.000000</td>\n",
       "      <td>1.000000</td>\n",
       "      <td>1.000000</td>\n",
       "      <td>1.000000</td>\n",
       "      <td>1.000000</td>\n",
       "      <td>...</td>\n",
       "      <td>1.000000</td>\n",
       "      <td>1.000000</td>\n",
       "      <td>1.000000</td>\n",
       "      <td>1.000000</td>\n",
       "      <td>1.000000</td>\n",
       "      <td>1.000000</td>\n",
       "      <td>1.000000</td>\n",
       "      <td>1.000000</td>\n",
       "      <td>1.000000</td>\n",
       "      <td>1.000000</td>\n",
       "    </tr>\n",
       "  </tbody>\n",
       "</table>\n",
       "<p>8 rows × 26 columns</p>\n",
       "</div>"
      ],
      "text/plain": [
       "               Fever      Tiredness      Dry-Cough  Difficulty-in-Breathing  \\\n",
       "count  316800.000000  316800.000000  316800.000000            316800.000000   \n",
       "mean        0.312500       0.500000       0.562500                 0.500000   \n",
       "std         0.463513       0.500001       0.496079                 0.500001   \n",
       "min         0.000000       0.000000       0.000000                 0.000000   \n",
       "25%         0.000000       0.000000       0.000000                 0.000000   \n",
       "50%         0.000000       0.500000       1.000000                 0.500000   \n",
       "75%         1.000000       1.000000       1.000000                 1.000000   \n",
       "max         1.000000       1.000000       1.000000                 1.000000   \n",
       "\n",
       "         Sore-Throat   None_Sympton          Pains  Nasal-Congestion  \\\n",
       "count  316800.000000  316800.000000  316800.000000     316800.000000   \n",
       "mean        0.312500       0.062500       0.363636          0.545455   \n",
       "std         0.463513       0.242062       0.481046          0.497930   \n",
       "min         0.000000       0.000000       0.000000          0.000000   \n",
       "25%         0.000000       0.000000       0.000000          0.000000   \n",
       "50%         0.000000       0.000000       0.000000          1.000000   \n",
       "75%         1.000000       0.000000       1.000000          1.000000   \n",
       "max         1.000000       1.000000       1.000000          1.000000   \n",
       "\n",
       "          Runny-Nose       Diarrhea  ...  Gender_Female    Gender_Male  \\\n",
       "count  316800.000000  316800.000000  ...  316800.000000  316800.000000   \n",
       "mean        0.545455       0.363636  ...       0.333333       0.333333   \n",
       "std         0.497930       0.481046  ...       0.471405       0.471405   \n",
       "min         0.000000       0.000000  ...       0.000000       0.000000   \n",
       "25%         0.000000       0.000000  ...       0.000000       0.000000   \n",
       "50%         1.000000       0.000000  ...       0.000000       0.000000   \n",
       "75%         1.000000       1.000000  ...       1.000000       1.000000   \n",
       "max         1.000000       1.000000  ...       1.000000       1.000000   \n",
       "\n",
       "       Gender_Transgender  Severity_Mild  Severity_Moderate  Severity_None  \\\n",
       "count       316800.000000  316800.000000      316800.000000  316800.000000   \n",
       "mean             0.333333       0.250000           0.250000       0.250000   \n",
       "std              0.471405       0.433013           0.433013       0.433013   \n",
       "min              0.000000       0.000000           0.000000       0.000000   \n",
       "25%              0.000000       0.000000           0.000000       0.000000   \n",
       "50%              0.000000       0.000000           0.000000       0.000000   \n",
       "75%              1.000000       0.250000           0.250000       0.250000   \n",
       "max              1.000000       1.000000           1.000000       1.000000   \n",
       "\n",
       "       Severity_Severe  Contact_Dont-Know     Contact_No    Contact_Yes  \n",
       "count    316800.000000      316800.000000  316800.000000  316800.000000  \n",
       "mean          0.250000           0.333333       0.333333       0.333333  \n",
       "std           0.433013           0.471405       0.471405       0.471405  \n",
       "min           0.000000           0.000000       0.000000       0.000000  \n",
       "25%           0.000000           0.000000       0.000000       0.000000  \n",
       "50%           0.000000           0.000000       0.000000       0.000000  \n",
       "75%           0.250000           1.000000       1.000000       1.000000  \n",
       "max           1.000000           1.000000       1.000000       1.000000  \n",
       "\n",
       "[8 rows x 26 columns]"
      ]
     },
     "execution_count": 79,
     "metadata": {},
     "output_type": "execute_result"
    }
   ],
   "source": [
    "corona.describe()"
   ]
  },
  {
   "cell_type": "markdown",
   "metadata": {},
   "source": [
    "**The describe() function computes a summary of statistics pertaining to the DataFrame columns.**\n",
    "1. count() present total count of every column data.\n",
    "2. mean()present avg/mean values/data in every column.\n",
    "3. std() present the standard daviation value in every column.\n",
    "4. min() present the minimum value of data in every column.\n",
    "5. max() present the maximum value of data in every column."
   ]
  },
  {
   "cell_type": "code",
   "execution_count": 80,
   "metadata": {},
   "outputs": [
    {
     "data": {
      "text/plain": [
       "(316800, 27)"
      ]
     },
     "execution_count": 80,
     "metadata": {},
     "output_type": "execute_result"
    }
   ],
   "source": [
    "corona.shape #finding shape"
   ]
  },
  {
   "cell_type": "code",
   "execution_count": 81,
   "metadata": {},
   "outputs": [
    {
     "data": {
      "text/plain": [
       "0"
      ]
     },
     "execution_count": 81,
     "metadata": {},
     "output_type": "execute_result"
    }
   ],
   "source": [
    "corona.isnull().sum().sum() #finding null value"
   ]
  },
  {
   "cell_type": "code",
   "execution_count": 82,
   "metadata": {},
   "outputs": [
    {
     "data": {
      "text/plain": [
       "0"
      ]
     },
     "execution_count": 82,
     "metadata": {},
     "output_type": "execute_result"
    }
   ],
   "source": [
    "corona.duplicated().sum()# finding duplicate value"
   ]
  },
  {
   "cell_type": "code",
   "execution_count": 83,
   "metadata": {},
   "outputs": [],
   "source": [
    "corona=corona.drop(['Country'],axis='columns')#drop column"
   ]
  },
  {
   "cell_type": "code",
   "execution_count": 84,
   "metadata": {},
   "outputs": [
    {
     "name": "stdout",
     "output_type": "stream",
     "text": [
      "    Fever\n",
      "0  217800\n",
      "1   99000\n"
     ]
    },
    {
     "data": {
      "text/plain": [
       "Text(0.5, 1.0, 'Fever')"
      ]
     },
     "execution_count": 84,
     "metadata": {},
     "output_type": "execute_result"
    },
    {
     "data": {
      "image/png": "[encoded data removed]",
      "text/plain": [
       "<Figure size 432x288 with 1 Axes>"
      ]
     },
     "metadata": {
      "needs_background": "light"
     },
     "output_type": "display_data"
    }
   ],
   "source": [
    "#fever\n",
    "print(corona['Fever'].value_counts().to_frame())\n",
    "corona['Fever'].value_counts().plot.bar()\n",
    "plt.title('Fever')"
   ]
  },
  {
   "cell_type": "code",
   "execution_count": 85,
   "metadata": {},
   "outputs": [
    {
     "name": "stdout",
     "output_type": "stream",
     "text": [
      "   Tiredness\n",
      "1     158400\n",
      "0     158400\n"
     ]
    },
    {
     "data": {
      "text/plain": [
       "Text(0.5, 1.0, 'Tiredness')"
      ]
     },
     "execution_count": 85,
     "metadata": {},
     "output_type": "execute_result"
    },
    {
     "data": {
      "image/png": "[encoded data removed]",
      "text/plain": [
       "<Figure size 432x288 with 1 Axes>"
      ]
     },
     "metadata": {
      "needs_background": "light"
     },
     "output_type": "display_data"
    }
   ],
   "source": [
    "#Tiredness\n",
    "print(corona[ 'Tiredness'].value_counts().to_frame())\n",
    "corona[ 'Tiredness'].value_counts().plot.bar()\n",
    "plt.title( 'Tiredness')"
   ]
  },
  {
   "cell_type": "code",
   "execution_count": 86,
   "metadata": {},
   "outputs": [
    {
     "name": "stdout",
     "output_type": "stream",
     "text": [
      "   Dry-Cough\n",
      "1     178200\n",
      "0     138600\n"
     ]
    },
    {
     "data": {
      "text/plain": [
       "Text(0.5, 1.0, 'Dry-Cough')"
      ]
     },
     "execution_count": 86,
     "metadata": {},
     "output_type": "execute_result"
    },
    {
     "data": {
      "image/png": "[encoded data removed]",
      "text/plain": [
       "<Figure size 432x288 with 1 Axes>"
      ]
     },
     "metadata": {
      "needs_background": "light"
     },
     "output_type": "display_data"
    }
   ],
   "source": [
    "#Dry-Cough\n",
    "print(corona[ 'Dry-Cough'].value_counts().to_frame())\n",
    "corona[ 'Dry-Cough'].value_counts().plot.bar()\n",
    "plt.title( 'Dry-Cough')"
   ]
  },
  {
   "cell_type": "code",
   "execution_count": 87,
   "metadata": {},
   "outputs": [
    {
     "name": "stdout",
     "output_type": "stream",
     "text": [
      "   Difficulty-in-Breathing\n",
      "1                   158400\n",
      "0                   158400\n"
     ]
    },
    {
     "data": {
      "text/plain": [
       "Text(0.5, 1.0, 'Difficulty-in-Breathing')"
      ]
     },
     "execution_count": 87,
     "metadata": {},
     "output_type": "execute_result"
    },
    {
     "data": {
      "image/png": "[encoded data removed]",
      "text/plain": [
       "<Figure size 432x288 with 1 Axes>"
      ]
     },
     "metadata": {
      "needs_background": "light"
     },
     "output_type": "display_data"
    }
   ],
   "source": [
    "#Difficulty-in-Breathing\n",
    "print(corona[ 'Difficulty-in-Breathing'].value_counts().to_frame())\n",
    "corona[ 'Difficulty-in-Breathing'].value_counts().plot.bar()\n",
    "plt.title('Difficulty-in-Breathing')"
   ]
  },
  {
   "cell_type": "code",
   "execution_count": 88,
   "metadata": {},
   "outputs": [
    {
     "name": "stdout",
     "output_type": "stream",
     "text": [
      "   Sore-Throat\n",
      "0       217800\n",
      "1        99000\n"
     ]
    },
    {
     "data": {
      "text/plain": [
       "Text(0.5, 1.0, 'Sore-Throat')"
      ]
     },
     "execution_count": 88,
     "metadata": {},
     "output_type": "execute_result"
    },
    {
     "data": {
      "image/png": "[encoded data removed]",
      "text/plain": [
       "<Figure size 432x288 with 1 Axes>"
      ]
     },
     "metadata": {
      "needs_background": "light"
     },
     "output_type": "display_data"
    }
   ],
   "source": [
    "#Sore-Throat\n",
    "print(corona['Sore-Throat'].value_counts().to_frame())\n",
    "corona['Sore-Throat'].value_counts().plot.bar()\n",
    "plt.title('Sore-Throat')"
   ]
  },
  {
   "cell_type": "code",
   "execution_count": 89,
   "metadata": {},
   "outputs": [
    {
     "name": "stdout",
     "output_type": "stream",
     "text": [
      "   None_Sympton\n",
      "0        297000\n",
      "1         19800\n"
     ]
    },
    {
     "data": {
      "text/plain": [
       "Text(0.5, 1.0, 'None_Sympton')"
      ]
     },
     "execution_count": 89,
     "metadata": {},
     "output_type": "execute_result"
    },
    {
     "data": {
      "image/png": "[encoded data removed]",
      "text/plain": [
       "<Figure size 432x288 with 1 Axes>"
      ]
     },
     "metadata": {
      "needs_background": "light"
     },
     "output_type": "display_data"
    }
   ],
   "source": [
    "#None_Sympton\n",
    "print(corona[ 'None_Sympton'].value_counts().to_frame())\n",
    "corona[ 'None_Sympton'].value_counts().plot.bar()\n",
    "plt.title( 'None_Sympton')"
   ]
  },
  {
   "cell_type": "code",
   "execution_count": 90,
   "metadata": {},
   "outputs": [
    {
     "name": "stdout",
     "output_type": "stream",
     "text": [
      "    Pains\n",
      "0  201600\n",
      "1  115200\n"
     ]
    },
    {
     "data": {
      "text/plain": [
       "Text(0.5, 1.0, 'Pains')"
      ]
     },
     "execution_count": 90,
     "metadata": {},
     "output_type": "execute_result"
    },
    {
     "data": {
      "image/png": "[encoded data removed]",
      "text/plain": [
       "<Figure size 432x288 with 1 Axes>"
      ]
     },
     "metadata": {
      "needs_background": "light"
     },
     "output_type": "display_data"
    }
   ],
   "source": [
    "#'Pains'\n",
    "print(corona[ 'Pains'].value_counts().to_frame())\n",
    "corona[ 'Pains'].value_counts().plot.bar()\n",
    "plt.title( 'Pains')"
   ]
  },
  {
   "cell_type": "code",
   "execution_count": 91,
   "metadata": {},
   "outputs": [
    {
     "name": "stdout",
     "output_type": "stream",
     "text": [
      "   Nasal-Congestion\n",
      "1            172800\n",
      "0            144000\n"
     ]
    },
    {
     "data": {
      "text/plain": [
       "Text(0.5, 1.0, 'Nasal-Congestion')"
      ]
     },
     "execution_count": 91,
     "metadata": {},
     "output_type": "execute_result"
    },
    {
     "data": {
      "image/png": "[encoded data removed]",
      "text/plain": [
       "<Figure size 432x288 with 1 Axes>"
      ]
     },
     "metadata": {
      "needs_background": "light"
     },
     "output_type": "display_data"
    }
   ],
   "source": [
    "#Nasal-Congestion\n",
    "print(corona[ 'Nasal-Congestion'].value_counts().to_frame())\n",
    "corona[ 'Nasal-Congestion'].value_counts().plot.bar()\n",
    "plt.title( 'Nasal-Congestion')"
   ]
  },
  {
   "cell_type": "code",
   "execution_count": 92,
   "metadata": {},
   "outputs": [
    {
     "name": "stdout",
     "output_type": "stream",
     "text": [
      "   Runny-Nose\n",
      "1      172800\n",
      "0      144000\n"
     ]
    },
    {
     "data": {
      "text/plain": [
       "Text(0.5, 1.0, 'Runny-Nose')"
      ]
     },
     "execution_count": 92,
     "metadata": {},
     "output_type": "execute_result"
    },
    {
     "data": {
      "image/png": "[encoded data removed]",
      "text/plain": [
       "<Figure size 432x288 with 1 Axes>"
      ]
     },
     "metadata": {
      "needs_background": "light"
     },
     "output_type": "display_data"
    }
   ],
   "source": [
    "#Runny-Nose\n",
    "print(corona['Runny-Nose'].value_counts().to_frame())\n",
    "corona['Runny-Nose'].value_counts().plot.bar()\n",
    "plt.title('Runny-Nose')"
   ]
  },
  {
   "cell_type": "code",
   "execution_count": 93,
   "metadata": {},
   "outputs": [
    {
     "name": "stdout",
     "output_type": "stream",
     "text": [
      "   Diarrhea\n",
      "0    201600\n",
      "1    115200\n"
     ]
    },
    {
     "data": {
      "text/plain": [
       "Text(0.5, 1.0, 'Diarrhea')"
      ]
     },
     "execution_count": 93,
     "metadata": {},
     "output_type": "execute_result"
    },
    {
     "data": {
      "image/png": "[encoded data removed]",
      "text/plain": [
       "<Figure size 432x288 with 1 Axes>"
      ]
     },
     "metadata": {
      "needs_background": "light"
     },
     "output_type": "display_data"
    }
   ],
   "source": [
    "#Diarrhea\n",
    "print(corona[ 'Diarrhea'].value_counts().to_frame())\n",
    "corona[ 'Diarrhea'].value_counts().plot.bar()\n",
    "plt.title( 'Diarrhea')"
   ]
  },
  {
   "cell_type": "code",
   "execution_count": 94,
   "metadata": {},
   "outputs": [
    {
     "name": "stdout",
     "output_type": "stream",
     "text": [
      "   None_Experiencing\n",
      "0             288000\n",
      "1              28800\n"
     ]
    },
    {
     "data": {
      "text/plain": [
       "Text(0.5, 1.0, 'None_Experiencing')"
      ]
     },
     "execution_count": 94,
     "metadata": {},
     "output_type": "execute_result"
    },
    {
     "data": {
      "image/png": "[encoded data removed]",
      "text/plain": [
       "<Figure size 432x288 with 1 Axes>"
      ]
     },
     "metadata": {
      "needs_background": "light"
     },
     "output_type": "display_data"
    }
   ],
   "source": [
    "#None_Experiencing\n",
    "print(corona[ 'None_Experiencing'].value_counts().to_frame())\n",
    "corona[ 'None_Experiencing'].value_counts().plot.bar()\n",
    "plt.title( 'None_Experiencing')"
   ]
  },
  {
   "cell_type": "code",
   "execution_count": 95,
   "metadata": {},
   "outputs": [
    {
     "name": "stdout",
     "output_type": "stream",
     "text": [
      "   Severity_Severe\n",
      "0           237600\n",
      "1            79200\n"
     ]
    },
    {
     "data": {
      "text/plain": [
       "Text(0.5, 1.0, 'Severity_Severe')"
      ]
     },
     "execution_count": 95,
     "metadata": {},
     "output_type": "execute_result"
    },
    {
     "data": {
      "image/png": "[encoded data removed]",
      "text/plain": [
       "<Figure size 432x288 with 1 Axes>"
      ]
     },
     "metadata": {
      "needs_background": "light"
     },
     "output_type": "display_data"
    }
   ],
   "source": [
    "# Severity_Severe\n",
    "print(corona[ 'Severity_Severe'].value_counts().to_frame())\n",
    "corona[ 'Severity_Severe'].value_counts().plot.bar()\n",
    "plt.title( 'Severity_Severe')"
   ]
  },
  {
   "cell_type": "code",
   "execution_count": 96,
   "metadata": {},
   "outputs": [
    {
     "data": {
      "text/plain": [
       "Text(0.5, 1.0, 'Correlation heatmap')"
      ]
     },
     "execution_count": 96,
     "metadata": {},
     "output_type": "execute_result"
    },
    {
     "data": {
      "image/png": "[encoded data removed]",
      "text/plain": [
       "<Figure size 504x360 with 2 Axes>"
      ]
     },
     "metadata": {
      "needs_background": "light"
     },
     "output_type": "display_data"
    }
   ],
   "source": [
    "plt.figure(figsize = (7,5))\n",
    "sns.heatmap(corona.corr(), cmap = 'viridis')\n",
    "plt.title('Correlation heatmap',size = 25)"
   ]
  },
  {
   "cell_type": "markdown",
   "metadata": {},
   "source": [
    "# Modelling "
   ]
  },
  {
   "cell_type": "code",
   "execution_count": 97,
   "metadata": {},
   "outputs": [],
   "source": [
    "x=corona.iloc[:,0:10].values\n",
    "y=corona.iloc[:,23].values"
   ]
  },
  {
   "cell_type": "code",
   "execution_count": 98,
   "metadata": {},
   "outputs": [],
   "source": [
    "from sklearn.model_selection import train_test_split\n",
    "x_train,x_test,y_train,y_test = train_test_split(x,y,test_size=.25,random_state=0)"
   ]
  },
  {
   "cell_type": "code",
   "execution_count": 99,
   "metadata": {},
   "outputs": [
    {
     "name": "stdout",
     "output_type": "stream",
     "text": [
      "Size of x_train is:(237600, 10)\n",
      "Size of Y_train is:(237600,)\n",
      "Size of x_test is:(79200, 10)\n",
      "Size of Y_test is:(79200,)\n",
      "\n"
     ]
    }
   ],
   "source": [
    "print(\"Size of x_train is:{}\\nSize of Y_train is:{}\\nSize of x_test is:{}\\nSize of Y_test is:{}\\n\".format(x_train.shape,\n",
    "                                      y_train.shape,\n",
    "                                      x_test.shape,\n",
    "                                      y_test.shape\n",
    "                                      ))"
   ]
  },
  {
   "cell_type": "code",
   "execution_count": 100,
   "metadata": {},
   "outputs": [],
   "source": [
    "from sklearn.preprocessing import StandardScaler\n",
    "sc_x= StandardScaler()\n",
    "x_train=sc_x.fit_transform(x_train)\n",
    "x_test=sc_x.fit_transform(x_test)"
   ]
  },
  {
   "cell_type": "code",
   "execution_count": 101,
   "metadata": {},
   "outputs": [],
   "source": [
    "acc1 = []"
   ]
  },
  {
   "cell_type": "code",
   "execution_count": 102,
   "metadata": {},
   "outputs": [
    {
     "data": {
      "text/plain": [
       "0.6685353535353535"
      ]
     },
     "execution_count": 102,
     "metadata": {},
     "output_type": "execute_result"
    }
   ],
   "source": [
    "from sklearn.linear_model import LogisticRegression\n",
    "classifier = LogisticRegression()\n",
    "classifier.fit(x_train,y_train)\n",
    "y_pred=classifier.predict(x_test)\n",
    "y_pred\n",
    "from sklearn.metrics import confusion_matrix\n",
    "cm = confusion_matrix(y_test,y_pred)\n",
    "from sklearn.metrics import accuracy_score\n",
    "accuracy_score(y_test,y_pred)"
   ]
  },
  {
   "cell_type": "code",
   "execution_count": 103,
   "metadata": {},
   "outputs": [
    {
     "name": "stdout",
     "output_type": "stream",
     "text": [
      "[[52948     0]\n",
      " [26252     0]]\n",
      "              precision    recall  f1-score   support\n",
      "\n",
      "           0       0.67      1.00      0.80     52948\n",
      "           1       0.00      0.00      0.00     26252\n",
      "\n",
      "    accuracy                           0.67     79200\n",
      "   macro avg       0.33      0.50      0.40     79200\n",
      "weighted avg       0.45      0.67      0.54     79200\n",
      "\n"
     ]
    }
   ],
   "source": [
    "# for logisticregression\n",
    "from sklearn.metrics import classification_report\n",
    "matrix = confusion_matrix(y_test,y_pred)\n",
    "report = classification_report(y_test,y_pred)\n",
    "print(matrix)\n",
    "print(report)"
   ]
  },
  {
   "cell_type": "code",
   "execution_count": 104,
   "metadata": {},
   "outputs": [],
   "source": [
    "acc1.append(0.6685)"
   ]
  },
  {
   "cell_type": "code",
   "execution_count": 105,
   "metadata": {},
   "outputs": [
    {
     "name": "stdout",
     "output_type": "stream",
     "text": [
      "Accuracy for Random Forest on CV data:  0.6685353535353535\n"
     ]
    }
   ],
   "source": [
    "from sklearn.ensemble import RandomForestClassifier\n",
    "rfc1=RandomForestClassifier(n_estimators= 100)\n",
    "rfc1.fit(x_train, y_train)\n",
    "pred=rfc1.predict(x_test)\n",
    "from sklearn.metrics import accuracy_score\n",
    "print(\"Accuracy for Random Forest on CV data: \",accuracy_score(y_test,pred))"
   ]
  },
  {
   "cell_type": "code",
   "execution_count": 106,
   "metadata": {},
   "outputs": [
    {
     "name": "stdout",
     "output_type": "stream",
     "text": [
      "[[52948     0]\n",
      " [26252     0]]\n",
      "              precision    recall  f1-score   support\n",
      "\n",
      "           0       0.67      1.00      0.80     52948\n",
      "           1       0.00      0.00      0.00     26252\n",
      "\n",
      "    accuracy                           0.67     79200\n",
      "   macro avg       0.33      0.50      0.40     79200\n",
      "weighted avg       0.45      0.67      0.54     79200\n",
      "\n"
     ]
    }
   ],
   "source": [
    "# for Randomforest\n",
    "from sklearn.metrics import classification_report\n",
    "matrix = confusion_matrix(y_test,pred)\n",
    "report = classification_report(y_test,pred)\n",
    "print(matrix)\n",
    "print(report)"
   ]
  },
  {
   "cell_type": "code",
   "execution_count": 107,
   "metadata": {},
   "outputs": [],
   "source": [
    "acc1.append(0.6685)"
   ]
  },
  {
   "cell_type": "code",
   "execution_count": 108,
   "metadata": {},
   "outputs": [
    {
     "data": {
      "text/plain": [
       "0.6685353535353535"
      ]
     },
     "execution_count": 108,
     "metadata": {},
     "output_type": "execute_result"
    }
   ],
   "source": [
    "from sklearn.tree import DecisionTreeClassifier\n",
    "classifier = DecisionTreeClassifier()\n",
    "classifier.fit(x_train,y_train)\n",
    "y_pred=classifier.predict(x_test)\n",
    "from sklearn.metrics import accuracy_score\n",
    "accuracy_score(y_test,y_pred)"
   ]
  },
  {
   "cell_type": "code",
   "execution_count": 109,
   "metadata": {},
   "outputs": [
    {
     "name": "stdout",
     "output_type": "stream",
     "text": [
      "[[52948     0]\n",
      " [26252     0]]\n",
      "              precision    recall  f1-score   support\n",
      "\n",
      "           0       0.67      1.00      0.80     52948\n",
      "           1       0.00      0.00      0.00     26252\n",
      "\n",
      "    accuracy                           0.67     79200\n",
      "   macro avg       0.33      0.50      0.40     79200\n",
      "weighted avg       0.45      0.67      0.54     79200\n",
      "\n"
     ]
    }
   ],
   "source": [
    "# for DecissionTree\n",
    "from sklearn.metrics import classification_report\n",
    "matrix = confusion_matrix(y_test,y_pred)\n",
    "report = classification_report(y_test,y_pred)\n",
    "print(matrix)\n",
    "print(report)"
   ]
  },
  {
   "cell_type": "code",
   "execution_count": 110,
   "metadata": {},
   "outputs": [],
   "source": [
    "acc1.append(0.6685)"
   ]
  },
  {
   "cell_type": "code",
   "execution_count": 111,
   "metadata": {},
   "outputs": [],
   "source": [
    "algo_name = [ 'Logistic Regressio', 'RandomForest','Decision Tree']\n",
    "accuracy = np.array(acc1)"
   ]
  },
  {
   "cell_type": "code",
   "execution_count": 112,
   "metadata": {},
   "outputs": [
    {
     "data": {
      "text/plain": [
       "Text(0, 0.5, 'Algorithm Name')"
      ]
     },
     "execution_count": 112,
     "metadata": {},
     "output_type": "execute_result"
    },
    {
     "data": {
      "image/png": "[encoded data removed]",
      "text/plain": [
       "<Figure size 504x360 with 1 Axes>"
      ]
     },
     "metadata": {
      "needs_background": "light"
     },
     "output_type": "display_data"
    }
   ],
   "source": [
    "from numpy import median\n",
    "plt.figure(figsize=(7,5))\n",
    "sns.barplot(y=accuracy*100,x=algo_name,estimator=median,palette=\"Blues_r\")\n",
    "plt.xlabel('Prediction',size=20)\n",
    "plt.xticks(rotation=45)\n",
    "plt.ylabel('Algorithm Name',size=20)"
   ]
  },
  {
   "cell_type": "code",
   "execution_count": 113,
   "metadata": {},
   "outputs": [],
   "source": [
    "pred1=[]"
   ]
  },
  {
   "cell_type": "code",
   "execution_count": 114,
   "metadata": {},
   "outputs": [],
   "source": [
    "pred2=[]"
   ]
  },
  {
   "cell_type": "markdown",
   "metadata": {},
   "source": [
    "### prediction of chances for age between 10-19 "
   ]
  },
  {
   "cell_type": "code",
   "execution_count": 115,
   "metadata": {},
   "outputs": [],
   "source": [
    "X=corona[['Fever', 'Tiredness', 'Dry-Cough', 'Difficulty-in-Breathing',\n",
    "       'Sore-Throat', 'None_Sympton', 'Pains', 'Nasal-Congestion',\n",
    "       'Runny-Nose', 'Diarrhea', 'None_Experiencing',  'Severity_Severe']]\n",
    "Y=corona[ 'Age_10-19']"
   ]
  },
  {
   "cell_type": "code",
   "execution_count": 116,
   "metadata": {},
   "outputs": [
    {
     "name": "stdout",
     "output_type": "stream",
     "text": [
      "Size of X_train is:(237600, 12)\n",
      "Size of Y_train is:(237600,)\n",
      "Size of X_test is:(79200, 12)\n",
      "Size of Y_test is:(79200,)\n",
      "\n"
     ]
    }
   ],
   "source": [
    "from sklearn.model_selection import train_test_split\n",
    "X_train,X_test,Y_train,Y_test = train_test_split(X,Y,test_size=.25,random_state=0)\n",
    "print(\"Size of X_train is:{}\\nSize of Y_train is:{}\\nSize of X_test is:{}\\nSize of Y_test is:{}\\n\".format(X_train.shape,\n",
    "                                      Y_train.shape,\n",
    "                                      X_test.shape,\n",
    "                                      y_test.shape\n",
    "                                      ))"
   ]
  },
  {
   "cell_type": "code",
   "execution_count": 117,
   "metadata": {},
   "outputs": [],
   "source": [
    "from sklearn.preprocessing import StandardScaler\n",
    "sc_x= StandardScaler()\n",
    "X_train=sc_x.fit_transform(X_train)\n",
    "X_test=sc_x.fit_transform(X_test)"
   ]
  },
  {
   "cell_type": "code",
   "execution_count": 118,
   "metadata": {},
   "outputs": [
    {
     "data": {
      "text/plain": [
       "0.7998484848484848"
      ]
     },
     "execution_count": 118,
     "metadata": {},
     "output_type": "execute_result"
    }
   ],
   "source": [
    "from sklearn.tree import DecisionTreeClassifier\n",
    "classifier = DecisionTreeClassifier()\n",
    "classifier.fit(X_train,Y_train)\n",
    "y_pred=classifier.predict(X_test)\n",
    "y_pred\n",
    "from sklearn.metrics import confusion_matrix\n",
    "cm = confusion_matrix(Y_test,y_pred)\n",
    "from sklearn.metrics import accuracy_score\n",
    "accuracy_score(Y_test,y_pred)"
   ]
  },
  {
   "cell_type": "code",
   "execution_count": 119,
   "metadata": {},
   "outputs": [
    {
     "name": "stdout",
     "output_type": "stream",
     "text": [
      "[[63348     0]\n",
      " [15852     0]]\n",
      "              precision    recall  f1-score   support\n",
      "\n",
      "           0       0.80      1.00      0.89     63348\n",
      "           1       0.00      0.00      0.00     15852\n",
      "\n",
      "    accuracy                           0.80     79200\n",
      "   macro avg       0.40      0.50      0.44     79200\n",
      "weighted avg       0.64      0.80      0.71     79200\n",
      "\n"
     ]
    }
   ],
   "source": [
    "# for decission tree\n",
    "from sklearn.metrics import classification_report\n",
    "matrix = confusion_matrix(Y_test,y_pred)\n",
    "report = classification_report(Y_test, y_pred)\n",
    "print(matrix)\n",
    "print(report)"
   ]
  },
  {
   "cell_type": "code",
   "execution_count": 120,
   "metadata": {},
   "outputs": [],
   "source": [
    "pred1.append(0.79984)"
   ]
  },
  {
   "cell_type": "code",
   "execution_count": 121,
   "metadata": {},
   "outputs": [
    {
     "name": "stdout",
     "output_type": "stream",
     "text": [
      "Accuracy for Random Forest on CV data:  0.7998484848484848\n"
     ]
    }
   ],
   "source": [
    "from sklearn.ensemble import RandomForestClassifier\n",
    "rfc1=RandomForestClassifier(n_estimators= 100)\n",
    "rfc1.fit(X_train, Y_train)\n",
    "pred=rfc1.predict(X_test)\n",
    "from sklearn.metrics import accuracy_score\n",
    "print(\"Accuracy for Random Forest on CV data: \",accuracy_score(Y_test,pred))"
   ]
  },
  {
   "cell_type": "code",
   "execution_count": 122,
   "metadata": {},
   "outputs": [
    {
     "name": "stdout",
     "output_type": "stream",
     "text": [
      "[[63348     0]\n",
      " [15852     0]]\n",
      "              precision    recall  f1-score   support\n",
      "\n",
      "           0       0.80      1.00      0.89     63348\n",
      "           1       0.00      0.00      0.00     15852\n",
      "\n",
      "    accuracy                           0.80     79200\n",
      "   macro avg       0.40      0.50      0.44     79200\n",
      "weighted avg       0.64      0.80      0.71     79200\n",
      "\n"
     ]
    }
   ],
   "source": [
    "# for randomforest\n",
    "from sklearn.metrics import classification_report\n",
    "matrix = confusion_matrix(Y_test,pred)\n",
    "report = classification_report(Y_test,pred)\n",
    "print(matrix)\n",
    "print(report)"
   ]
  },
  {
   "cell_type": "code",
   "execution_count": 123,
   "metadata": {},
   "outputs": [],
   "source": [
    "pred2.append(0.79984)"
   ]
  },
  {
   "cell_type": "markdown",
   "metadata": {},
   "source": [
    "### prediction of chances for age between 21-59"
   ]
  },
  {
   "cell_type": "code",
   "execution_count": 124,
   "metadata": {},
   "outputs": [],
   "source": [
    "X1=corona[['Fever', 'Tiredness', 'Dry-Cough', 'Difficulty-in-Breathing',\n",
    "       'Sore-Throat', 'None_Sympton', 'Pains', 'Nasal-Congestion',\n",
    "       'Runny-Nose', 'Diarrhea', 'None_Experiencing',  'Severity_Severe']]\n",
    "Y1=corona[ 'Age_25-59']"
   ]
  },
  {
   "cell_type": "code",
   "execution_count": 125,
   "metadata": {},
   "outputs": [
    {
     "name": "stdout",
     "output_type": "stream",
     "text": [
      "Size of X1_train is:(237600, 12)\n",
      "Size of Y1_train is:(237600,)\n",
      "Size of X1_test is:(79200, 12)\n",
      "Size of Y1_test is:(79200,)\n",
      "\n"
     ]
    }
   ],
   "source": [
    "from sklearn.model_selection import train_test_split\n",
    "X1_train,X1_test,Y1_train,Y1_test = train_test_split(X1,Y1,test_size=.25,random_state=0)\n",
    "print(\"Size of X1_train is:{}\\nSize of Y1_train is:{}\\nSize of X1_test is:{}\\nSize of Y1_test is:{}\\n\".format(X1_train.shape,\n",
    "                                      Y1_train.shape,\n",
    "                                      X1_test.shape,\n",
    "                                      Y1_test.shape\n",
    "                                      ))"
   ]
  },
  {
   "cell_type": "code",
   "execution_count": 126,
   "metadata": {},
   "outputs": [],
   "source": [
    "from sklearn.preprocessing import StandardScaler\n",
    "sc_x= StandardScaler()\n",
    "X1_train=sc_x.fit_transform(X1_train)\n",
    "X1_test=sc_x.fit_transform(X1_test)"
   ]
  },
  {
   "cell_type": "code",
   "execution_count": 127,
   "metadata": {},
   "outputs": [
    {
     "data": {
      "text/plain": [
       "0.7987121212121212"
      ]
     },
     "execution_count": 127,
     "metadata": {},
     "output_type": "execute_result"
    }
   ],
   "source": [
    "from sklearn.tree import DecisionTreeClassifier\n",
    "classifier = DecisionTreeClassifier()\n",
    "classifier.fit(X1_train,Y1_train)\n",
    "y_pred=classifier.predict(X1_test)\n",
    "y_pred\n",
    "from sklearn.metrics import confusion_matrix\n",
    "cm = confusion_matrix(Y1_test,y_pred)\n",
    "cm\n",
    "from sklearn.metrics import accuracy_score\n",
    "accuracy_score(Y1_test,y_pred)"
   ]
  },
  {
   "cell_type": "code",
   "execution_count": 128,
   "metadata": {},
   "outputs": [
    {
     "name": "stdout",
     "output_type": "stream",
     "text": [
      "[[63258     0]\n",
      " [15942     0]]\n",
      "              precision    recall  f1-score   support\n",
      "\n",
      "           0       0.80      1.00      0.89     63258\n",
      "           1       0.00      0.00      0.00     15942\n",
      "\n",
      "    accuracy                           0.80     79200\n",
      "   macro avg       0.40      0.50      0.44     79200\n",
      "weighted avg       0.64      0.80      0.71     79200\n",
      "\n"
     ]
    }
   ],
   "source": [
    "# for decission tree\n",
    "from sklearn.metrics import classification_report\n",
    "matrix = confusion_matrix(Y1_test,y_pred)\n",
    "report = classification_report(Y1_test,y_pred)\n",
    "print(matrix)\n",
    "print(report)"
   ]
  },
  {
   "cell_type": "code",
   "execution_count": 129,
   "metadata": {},
   "outputs": [],
   "source": [
    "pred1.append(0.7987)"
   ]
  },
  {
   "cell_type": "code",
   "execution_count": 130,
   "metadata": {},
   "outputs": [
    {
     "name": "stdout",
     "output_type": "stream",
     "text": [
      "Accuracy for Random Forest on CV data:  0.7987121212121212\n"
     ]
    }
   ],
   "source": [
    "from sklearn.ensemble import RandomForestClassifier\n",
    "rfc1=RandomForestClassifier(n_estimators= 100)\n",
    "rfc1.fit(X1_train, Y1_train)\n",
    "pred=rfc1.predict(X1_test)\n",
    "from sklearn.metrics import accuracy_score\n",
    "print(\"Accuracy for Random Forest on CV data: \",accuracy_score(Y1_test,pred))"
   ]
  },
  {
   "cell_type": "code",
   "execution_count": 131,
   "metadata": {},
   "outputs": [],
   "source": [
    "pred2.append(0.7987)"
   ]
  },
  {
   "cell_type": "code",
   "execution_count": 132,
   "metadata": {},
   "outputs": [
    {
     "name": "stdout",
     "output_type": "stream",
     "text": [
      "[[63258     0]\n",
      " [15942     0]]\n",
      "              precision    recall  f1-score   support\n",
      "\n",
      "           0       0.80      1.00      0.89     63258\n",
      "           1       0.00      0.00      0.00     15942\n",
      "\n",
      "    accuracy                           0.80     79200\n",
      "   macro avg       0.40      0.50      0.44     79200\n",
      "weighted avg       0.64      0.80      0.71     79200\n",
      "\n"
     ]
    }
   ],
   "source": [
    "# for randomforest\n",
    "from sklearn.metrics import classification_report\n",
    "matrix = confusion_matrix(Y1_test,pred)\n",
    "report = classification_report(Y1_test,pred)\n",
    "print(matrix)\n",
    "print(report)"
   ]
  },
  {
   "cell_type": "markdown",
   "metadata": {},
   "source": [
    "### prediction of chances for age between 20-24"
   ]
  },
  {
   "cell_type": "code",
   "execution_count": 133,
   "metadata": {},
   "outputs": [],
   "source": [
    "X2=corona[['Fever', 'Tiredness', 'Dry-Cough', 'Difficulty-in-Breathing',\n",
    "       'Sore-Throat', 'None_Sympton', 'Pains', 'Nasal-Congestion',\n",
    "       'Runny-Nose', 'Diarrhea', 'None_Experiencing',  'Severity_Severe']]\n",
    "Y2=corona[ 'Age_20-24']"
   ]
  },
  {
   "cell_type": "code",
   "execution_count": 134,
   "metadata": {},
   "outputs": [
    {
     "name": "stdout",
     "output_type": "stream",
     "text": [
      "Size of X2_train is:(237600, 12)\n",
      "Size of Y2_train is:(237600,)\n",
      "Size of X2_test is:(79200, 12)\n",
      "Size of Y2_test is:(79200,)\n",
      "\n"
     ]
    }
   ],
   "source": [
    "from sklearn.model_selection import train_test_split\n",
    "X2_train,X2_test,Y2_train,Y2_test = train_test_split(X2,Y2,test_size=.25,random_state=0)\n",
    "print(\"Size of X2_train is:{}\\nSize of Y2_train is:{}\\nSize of X2_test is:{}\\nSize of Y2_test is:{}\\n\".format(X2_train.shape,\n",
    "                                      Y2_train.shape,\n",
    "                                      X2_test.shape,\n",
    "                                      Y2_test.shape\n",
    "                                      ))"
   ]
  },
  {
   "cell_type": "code",
   "execution_count": 135,
   "metadata": {},
   "outputs": [],
   "source": [
    "from sklearn.preprocessing import StandardScaler\n",
    "sc_x= StandardScaler()\n",
    "X2_train=sc_x.fit_transform(X2_train)\n",
    "X2_test=sc_x.fit_transform(X2_test)"
   ]
  },
  {
   "cell_type": "code",
   "execution_count": 136,
   "metadata": {},
   "outputs": [
    {
     "data": {
      "text/plain": [
       "0.7996338383838384"
      ]
     },
     "execution_count": 136,
     "metadata": {},
     "output_type": "execute_result"
    }
   ],
   "source": [
    "from sklearn.tree import DecisionTreeClassifier\n",
    "classifier = DecisionTreeClassifier()\n",
    "classifier.fit(X2_train,Y2_train)\n",
    "y_pred=classifier.predict(X2_test)\n",
    "y_pred\n",
    "from sklearn.metrics import confusion_matrix\n",
    "cm = confusion_matrix(Y2_test,y_pred)\n",
    "cm\n",
    "from sklearn.metrics import accuracy_score\n",
    "accuracy_score(Y2_test,y_pred)"
   ]
  },
  {
   "cell_type": "code",
   "execution_count": 137,
   "metadata": {},
   "outputs": [
    {
     "name": "stdout",
     "output_type": "stream",
     "text": [
      "[[63331     0]\n",
      " [15869     0]]\n",
      "              precision    recall  f1-score   support\n",
      "\n",
      "           0       0.80      1.00      0.89     63331\n",
      "           1       0.00      0.00      0.00     15869\n",
      "\n",
      "    accuracy                           0.80     79200\n",
      "   macro avg       0.40      0.50      0.44     79200\n",
      "weighted avg       0.64      0.80      0.71     79200\n",
      "\n"
     ]
    }
   ],
   "source": [
    "# for decission tree\n",
    "from sklearn.metrics import classification_report\n",
    "matrix = confusion_matrix(Y2_test,y_pred)\n",
    "report = classification_report(Y2_test,y_pred)\n",
    "print(matrix)\n",
    "print(report)"
   ]
  },
  {
   "cell_type": "code",
   "execution_count": 138,
   "metadata": {},
   "outputs": [],
   "source": [
    "pred1.append(0.7996)"
   ]
  },
  {
   "cell_type": "code",
   "execution_count": 139,
   "metadata": {},
   "outputs": [
    {
     "name": "stdout",
     "output_type": "stream",
     "text": [
      "Accuracy for Random Forest on CV data:  0.7996338383838384\n"
     ]
    }
   ],
   "source": [
    "from sklearn.ensemble import RandomForestClassifier\n",
    "rfc1=RandomForestClassifier(n_estimators= 100)\n",
    "rfc1.fit(X2_train, Y2_train)\n",
    "pred=rfc1.predict(X2_test)\n",
    "from sklearn.metrics import accuracy_score\n",
    "print(\"Accuracy for Random Forest on CV data: \",accuracy_score(Y2_test,pred))"
   ]
  },
  {
   "cell_type": "code",
   "execution_count": 140,
   "metadata": {},
   "outputs": [
    {
     "name": "stdout",
     "output_type": "stream",
     "text": [
      "[[63331     0]\n",
      " [15869     0]]\n",
      "              precision    recall  f1-score   support\n",
      "\n",
      "           0       0.80      1.00      0.89     63331\n",
      "           1       0.00      0.00      0.00     15869\n",
      "\n",
      "    accuracy                           0.80     79200\n",
      "   macro avg       0.40      0.50      0.44     79200\n",
      "weighted avg       0.64      0.80      0.71     79200\n",
      "\n"
     ]
    }
   ],
   "source": [
    "# for randomforest\n",
    "from sklearn.metrics import classification_report\n",
    "matrix = confusion_matrix(Y2_test,pred)\n",
    "report = classification_report(Y2_test,pred)\n",
    "print(matrix)\n",
    "print(report)"
   ]
  },
  {
   "cell_type": "code",
   "execution_count": 141,
   "metadata": {},
   "outputs": [],
   "source": [
    "pred2.append(0.7996)"
   ]
  },
  {
   "cell_type": "markdown",
   "metadata": {},
   "source": [
    "### prediction of chances for age between 0-09"
   ]
  },
  {
   "cell_type": "code",
   "execution_count": 142,
   "metadata": {},
   "outputs": [],
   "source": [
    "X3=corona[['Fever', 'Tiredness', 'Dry-Cough', 'Difficulty-in-Breathing',\n",
    "       'Sore-Throat', 'None_Sympton', 'Pains', 'Nasal-Congestion',\n",
    "       'Runny-Nose', 'Diarrhea', 'None_Experiencing',  'Severity_Severe']]\n",
    "Y3=corona[ 'Age_0-9']"
   ]
  },
  {
   "cell_type": "code",
   "execution_count": 143,
   "metadata": {},
   "outputs": [
    {
     "name": "stdout",
     "output_type": "stream",
     "text": [
      "Size of X3_train is:(237600, 12)\n",
      "Size of Y3_train is:(237600,)\n",
      "Size of X3_test is:(79200, 12)\n",
      "Size of Y3_test is:(79200,)\n",
      "\n"
     ]
    }
   ],
   "source": [
    "from sklearn.model_selection import train_test_split\n",
    "X3_train,X3_test,Y3_train,Y3_test = train_test_split(X3,Y3,test_size=.25,random_state=0)\n",
    "print(\"Size of X3_train is:{}\\nSize of Y3_train is:{}\\nSize of X3_test is:{}\\nSize of Y3_test is:{}\\n\".format(X3_train.shape,\n",
    "                                      Y3_train.shape,\n",
    "                                      X3_test.shape,\n",
    "                                      Y3_test.shape\n",
    "                                      ))"
   ]
  },
  {
   "cell_type": "code",
   "execution_count": 144,
   "metadata": {},
   "outputs": [],
   "source": [
    "from sklearn.preprocessing import StandardScaler\n",
    "sc_x= StandardScaler()\n",
    "X3_train=sc_x.fit_transform(X3_train)\n",
    "X3_test=sc_x.fit_transform(X3_test)"
   ]
  },
  {
   "cell_type": "code",
   "execution_count": 145,
   "metadata": {},
   "outputs": [
    {
     "data": {
      "text/plain": [
       "0.8013257575757575"
      ]
     },
     "execution_count": 145,
     "metadata": {},
     "output_type": "execute_result"
    }
   ],
   "source": [
    "from sklearn.tree import DecisionTreeClassifier\n",
    "classifier = DecisionTreeClassifier()\n",
    "classifier.fit(X3_train,Y3_train)\n",
    "y_pred=classifier.predict(X3_test)\n",
    "y_pred\n",
    "from sklearn.metrics import confusion_matrix\n",
    "cm = confusion_matrix(Y3_test,y_pred)\n",
    "cm\n",
    "from sklearn.metrics import accuracy_score\n",
    "accuracy_score(Y3_test,y_pred)"
   ]
  },
  {
   "cell_type": "code",
   "execution_count": 146,
   "metadata": {},
   "outputs": [
    {
     "name": "stdout",
     "output_type": "stream",
     "text": [
      "[[63465     0]\n",
      " [15735     0]]\n",
      "              precision    recall  f1-score   support\n",
      "\n",
      "           0       0.80      1.00      0.89     63465\n",
      "           1       0.00      0.00      0.00     15735\n",
      "\n",
      "    accuracy                           0.80     79200\n",
      "   macro avg       0.40      0.50      0.44     79200\n",
      "weighted avg       0.64      0.80      0.71     79200\n",
      "\n"
     ]
    }
   ],
   "source": [
    "# for decission tree\n",
    "from sklearn.metrics import classification_report\n",
    "matrix = confusion_matrix(Y3_test,y_pred)\n",
    "report = classification_report(Y3_test,y_pred)\n",
    "print(matrix)\n",
    "print(report)"
   ]
  },
  {
   "cell_type": "code",
   "execution_count": 147,
   "metadata": {},
   "outputs": [],
   "source": [
    "pred1.append(0.8013)"
   ]
  },
  {
   "cell_type": "code",
   "execution_count": 148,
   "metadata": {},
   "outputs": [
    {
     "name": "stdout",
     "output_type": "stream",
     "text": [
      "Accuracy for Random Forest on CV data:  0.8013257575757575\n"
     ]
    }
   ],
   "source": [
    "from sklearn.ensemble import RandomForestClassifier\n",
    "rfc1=RandomForestClassifier(n_estimators= 100)\n",
    "rfc1.fit(X3_train, Y3_train)\n",
    "pred=rfc1.predict(X3_test)\n",
    "from sklearn.metrics import accuracy_score\n",
    "print(\"Accuracy for Random Forest on CV data: \",accuracy_score(Y3_test,pred))"
   ]
  },
  {
   "cell_type": "code",
   "execution_count": 149,
   "metadata": {},
   "outputs": [
    {
     "name": "stdout",
     "output_type": "stream",
     "text": [
      "[[63465     0]\n",
      " [15735     0]]\n",
      "              precision    recall  f1-score   support\n",
      "\n",
      "           0       0.80      1.00      0.89     63465\n",
      "           1       0.00      0.00      0.00     15735\n",
      "\n",
      "    accuracy                           0.80     79200\n",
      "   macro avg       0.40      0.50      0.44     79200\n",
      "weighted avg       0.64      0.80      0.71     79200\n",
      "\n"
     ]
    }
   ],
   "source": [
    "# for randomforest\n",
    "from sklearn.metrics import classification_report\n",
    "matrix = confusion_matrix(Y3_test,pred)\n",
    "report = classification_report(Y3_test,pred)\n",
    "print(matrix)\n",
    "print(report)"
   ]
  },
  {
   "cell_type": "code",
   "execution_count": 150,
   "metadata": {},
   "outputs": [],
   "source": [
    "pred2.append(0.8013)"
   ]
  },
  {
   "cell_type": "code",
   "execution_count": 160,
   "metadata": {},
   "outputs": [],
   "source": [
    "s1=pd.DataFrame(pred1, columns=['Agorithm_value for decission_tree '],index=['Age_10-19', 'Age_21-59', 'Age_20-24','Age_0-9'])"
   ]
  },
  {
   "cell_type": "code",
   "execution_count": 161,
   "metadata": {},
   "outputs": [
    {
     "data": {
      "text/html": [
       "<div>\n",
       "<style scoped>\n",
       "    .dataframe tbody tr th:only-of-type {\n",
       "        vertical-align: middle;\n",
       "    }\n",
       "\n",
       "    .dataframe tbody tr th {\n",
       "        vertical-align: top;\n",
       "    }\n",
       "\n",
       "    .dataframe thead th {\n",
       "        text-align: right;\n",
       "    }\n",
       "</style>\n",
       "<table border=\"1\" class=\"dataframe\">\n",
       "  <thead>\n",
       "    <tr style=\"text-align: right;\">\n",
       "      <th></th>\n",
       "      <th>Agorithm_value for decission_tree</th>\n",
       "    </tr>\n",
       "  </thead>\n",
       "  <tbody>\n",
       "    <tr>\n",
       "      <th>Age_10-19</th>\n",
       "      <td>0.79984</td>\n",
       "    </tr>\n",
       "    <tr>\n",
       "      <th>Age_21-59</th>\n",
       "      <td>0.79870</td>\n",
       "    </tr>\n",
       "    <tr>\n",
       "      <th>Age_20-24</th>\n",
       "      <td>0.79960</td>\n",
       "    </tr>\n",
       "    <tr>\n",
       "      <th>Age_0-9</th>\n",
       "      <td>0.80130</td>\n",
       "    </tr>\n",
       "  </tbody>\n",
       "</table>\n",
       "</div>"
      ],
      "text/plain": [
       "           Agorithm_value for decission_tree \n",
       "Age_10-19                             0.79984\n",
       "Age_21-59                             0.79870\n",
       "Age_20-24                             0.79960\n",
       "Age_0-9                               0.80130"
      ]
     },
     "execution_count": 161,
     "metadata": {},
     "output_type": "execute_result"
    }
   ],
   "source": [
    "s1"
   ]
  },
  {
   "cell_type": "code",
   "execution_count": 162,
   "metadata": {},
   "outputs": [
    {
     "data": {
      "text/html": [
       "<div>\n",
       "<style scoped>\n",
       "    .dataframe tbody tr th:only-of-type {\n",
       "        vertical-align: middle;\n",
       "    }\n",
       "\n",
       "    .dataframe tbody tr th {\n",
       "        vertical-align: top;\n",
       "    }\n",
       "\n",
       "    .dataframe thead th {\n",
       "        text-align: right;\n",
       "    }\n",
       "</style>\n",
       "<table border=\"1\" class=\"dataframe\">\n",
       "  <thead>\n",
       "    <tr style=\"text-align: right;\">\n",
       "      <th></th>\n",
       "      <th>Agorithm_value for Randomforest</th>\n",
       "    </tr>\n",
       "  </thead>\n",
       "  <tbody>\n",
       "    <tr>\n",
       "      <th>Age_10-19</th>\n",
       "      <td>0.79984</td>\n",
       "    </tr>\n",
       "    <tr>\n",
       "      <th>Age_21-59</th>\n",
       "      <td>0.79870</td>\n",
       "    </tr>\n",
       "    <tr>\n",
       "      <th>Age_20-24</th>\n",
       "      <td>0.79960</td>\n",
       "    </tr>\n",
       "    <tr>\n",
       "      <th>Age_0-9</th>\n",
       "      <td>0.80130</td>\n",
       "    </tr>\n",
       "  </tbody>\n",
       "</table>\n",
       "</div>"
      ],
      "text/plain": [
       "           Agorithm_value for Randomforest \n",
       "Age_10-19                           0.79984\n",
       "Age_21-59                           0.79870\n",
       "Age_20-24                           0.79960\n",
       "Age_0-9                             0.80130"
      ]
     },
     "execution_count": 162,
     "metadata": {},
     "output_type": "execute_result"
    }
   ],
   "source": [
    "s2=pd.DataFrame(pred2, columns=['Agorithm_value for Randomforest '],index=['Age_10-19', 'Age_21-59', 'Age_20-24','Age_0-9'])\n",
    "s2"
   ]
  },
  {
   "cell_type": "code",
   "execution_count": null,
   "metadata": {},
   "outputs": [],
   "source": []
  }
 ],
 "metadata": {
  "kernelspec": {
   "display_name": "Python 3",
   "language": "python",
   "name": "python3"
  },
  "language_info": {
   "codemirror_mode": {
    "name": "ipython",
    "version": 3
   },
   "file_extension": ".py",
   "mimetype": "text/x-python",
   "name": "python",
   "nbconvert_exporter": "python",
   "pygments_lexer": "ipython3",
   "version": "3.8.3"
  }
 },
 "nbformat": 4,
 "nbformat_minor": 4
}
